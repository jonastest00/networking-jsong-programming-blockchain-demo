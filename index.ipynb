{
 "cells": [
  {
   "cell_type": "markdown",
   "metadata": {},
   "source": [
    "# Networking"
   ]
  },
  {
   "cell_type": "markdown",
   "metadata": {},
   "source": [
    "### Exercise\n",
    "\n",
    "#### Check the cheat sheet for the network message structure.\n",
    "\n",
    "#### 9.1. Parse this message\n",
    "```\n",
    "f9beb4d976657261636b000000000000000000005df6e0e2\n",
    "```"
   ]
  },
  {
   "cell_type": "code",
   "execution_count": null,
   "metadata": {},
   "outputs": [],
   "source": [
    "# Exercise 9.1\n",
    "\n",
    "msg = bytes.fromhex('f9beb4d976657261636b000000000000000000005df6e0e2')\n",
    "\n",
    "# first 4 are network magic\n",
    "# next 12 are command\n",
    "# next 4 are payload length\n",
    "# next 4 are checksum\n",
    "# rest is payload"
   ]
  },
  {
   "cell_type": "markdown",
   "metadata": {},
   "source": [
    "# Test Driven Exercise"
   ]
  },
  {
   "cell_type": "code",
   "execution_count": 3,
   "metadata": {},
   "outputs": [],
   "source": [
    "from io import BytesIO\n",
    "from network import NetworkEnvelope\n",
    "from helper import (\n",
    "    double_sha256,\n",
    "    int_to_little_endian,\n",
    "    little_endian_to_int\n",
    ")\n",
    "\n",
    "NETWORK_MAGIC = b'\\xf9\\xbe\\xb4\\xd9'\n",
    "\n",
    "\n",
    "class NetworkEnvelope(NetworkEnvelope):\n",
    "    \n",
    "    @classmethod\n",
    "    def parse(cls, s):\n",
    "        '''Takes a stream and creates a NetworkEnvelope'''\n",
    "        # check the network magic NETWORK_MAGIC\n",
    "        # check the network magic b'\\xf9\\xbe\\xb4\\xd9'\n",
    "        # command 12 bytes\n",
    "        # payload length 4 bytes, little endian\n",
    "        # checksum 4 bytes, first four of double-sha256 of payload\n",
    "        # payload is of length payload_length\n",
    "        # verify checksum\n",
    "        pass\n",
    "\n",
    "    def serialize(self):\n",
    "        '''Returns the byte serialization of the entire network message'''\n",
    "        # add the network magic NETWORK_MAGIC\n",
    "        # command 12 bytes\n",
    "        # payload length 4 bytes, little endian\n",
    "        # checksum 4 bytes, first four of double-sha256 of payload\n",
    "        # payload\n",
    "        pass"
   ]
  }
 ],
 "metadata": {
  "kernelspec": {
   "display_name": "Python 3",
   "language": "python",
   "name": "python3"
  },
  "language_info": {
   "codemirror_mode": {
    "name": "ipython",
    "version": 3
   },
   "file_extension": ".py",
   "mimetype": "text/x-python",
   "name": "python",
   "nbconvert_exporter": "python",
   "pygments_lexer": "ipython3",
   "version": "3.6.4"
  }
 },
 "nbformat": 4,
 "nbformat_minor": 2
}
